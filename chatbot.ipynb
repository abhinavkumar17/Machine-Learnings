{
  "nbformat": 4,
  "nbformat_minor": 0,
  "metadata": {
    "colab": {
      "name": "Untitled35.ipynb",
      "provenance": [],
      "toc_visible": true,
      "authorship_tag": "ABX9TyMo6LUug3JRwixMtIVz67Gr",
      "include_colab_link": true
    },
    "kernelspec": {
      "name": "python3",
      "display_name": "Python 3"
    }
  },
  "cells": [
    {
      "cell_type": "markdown",
      "metadata": {
        "id": "view-in-github",
        "colab_type": "text"
      },
      "source": [
        "<a href=\"https://colab.research.google.com/github/abhinavkumar17/Machine-Learnings/blob/main/chatbot.ipynb\" target=\"_parent\"><img src=\"https://colab.research.google.com/assets/colab-badge.svg\" alt=\"Open In Colab\"/></a>"
      ]
    },
    {
      "cell_type": "code",
      "metadata": {
        "colab": {
          "base_uri": "https://localhost:8080/"
        },
        "id": "nuHROL-9xrys",
        "outputId": "307665ff-a2be-42ff-c494-06840b3e4f2d"
      },
      "source": [
        "pip install tflearn"
      ],
      "execution_count": 1,
      "outputs": [
        {
          "output_type": "stream",
          "text": [
            "Collecting tflearn\n",
            "\u001b[?25l  Downloading https://files.pythonhosted.org/packages/e7/3c/0b156d08ef3d4e2a8009ecab2af1ad2e304f6fb99562b6271c68a74a4397/tflearn-0.5.0.tar.gz (107kB)\n",
            "\r\u001b[K     |███                             | 10kB 14.5MB/s eta 0:00:01\r\u001b[K     |██████                          | 20kB 19.8MB/s eta 0:00:01\r\u001b[K     |█████████▏                      | 30kB 11.2MB/s eta 0:00:01\r\u001b[K     |████████████▏                   | 40kB 9.4MB/s eta 0:00:01\r\u001b[K     |███████████████▎                | 51kB 9.6MB/s eta 0:00:01\r\u001b[K     |██████████████████▎             | 61kB 10.3MB/s eta 0:00:01\r\u001b[K     |█████████████████████▍          | 71kB 9.3MB/s eta 0:00:01\r\u001b[K     |████████████████████████▍       | 81kB 8.9MB/s eta 0:00:01\r\u001b[K     |███████████████████████████▌    | 92kB 9.1MB/s eta 0:00:01\r\u001b[K     |██████████████████████████████▌ | 102kB 9.0MB/s eta 0:00:01\r\u001b[K     |████████████████████████████████| 112kB 9.0MB/s \n",
            "\u001b[?25hRequirement already satisfied: numpy in /usr/local/lib/python3.6/dist-packages (from tflearn) (1.19.5)\n",
            "Requirement already satisfied: six in /usr/local/lib/python3.6/dist-packages (from tflearn) (1.15.0)\n",
            "Requirement already satisfied: Pillow in /usr/local/lib/python3.6/dist-packages (from tflearn) (7.0.0)\n",
            "Building wheels for collected packages: tflearn\n",
            "  Building wheel for tflearn (setup.py) ... \u001b[?25l\u001b[?25hdone\n",
            "  Created wheel for tflearn: filename=tflearn-0.5.0-cp36-none-any.whl size=127301 sha256=6f4facf54060dc7ea3f10fb6e085b3ee54c27b1de4ac488c7e9110d619d78684\n",
            "  Stored in directory: /root/.cache/pip/wheels/31/d2/ed/fb9a0d301dd9586c11e9547120278e624227f22fd5f4baf744\n",
            "Successfully built tflearn\n",
            "Installing collected packages: tflearn\n",
            "Successfully installed tflearn-0.5.0\n"
          ],
          "name": "stdout"
        }
      ]
    },
    {
      "cell_type": "code",
      "metadata": {
        "colab": {
          "base_uri": "https://localhost:8080/"
        },
        "id": "6fmmpSi4x7au",
        "outputId": "67e5cd4a-c17e-4ae3-dcb5-7f1e27c5b607"
      },
      "source": [
        "#Used in Tensorflow Model\r\n",
        "import numpy as np\r\n",
        "import tensorflow as tf\r\n",
        "import tflearn\r\n",
        "import random\r\n",
        "\r\n",
        "#Usde to for Contextualisation and Other NLP Tasks.\r\n",
        "import nltk\r\n",
        "from nltk.stem.lancaster import LancasterStemmer\r\n",
        "stemmer = LancasterStemmer()\r\n",
        "\r\n",
        "#Other\r\n",
        "import json\r\n",
        "import pickle\r\n",
        "import warnings\r\n",
        "warnings.filterwarnings(\"ignore\")"
      ],
      "execution_count": 2,
      "outputs": [
        {
          "output_type": "stream",
          "text": [
            "WARNING:tensorflow:From /usr/local/lib/python3.6/dist-packages/tensorflow/python/compat/v2_compat.py:96: disable_resource_variables (from tensorflow.python.ops.variable_scope) is deprecated and will be removed in a future version.\n",
            "Instructions for updating:\n",
            "non-resource variables are not supported in the long term\n"
          ],
          "name": "stdout"
        }
      ]
    },
    {
      "cell_type": "code",
      "metadata": {
        "colab": {
          "base_uri": "https://localhost:8080/"
        },
        "id": "D76ed9_lx-Cx",
        "outputId": "b3c04df3-94a6-4d76-8de6-fe7072d2d90e"
      },
      "source": [
        "print(\"Processing the Intents.....\")\r\n",
        "with open('intents.json') as json_data:\r\n",
        "    intents = json.load(json_data)"
      ],
      "execution_count": 3,
      "outputs": [
        {
          "output_type": "stream",
          "text": [
            "Processing the Intents.....\n"
          ],
          "name": "stdout"
        }
      ]
    },
    {
      "cell_type": "code",
      "metadata": {
        "colab": {
          "base_uri": "https://localhost:8080/"
        },
        "id": "t2Kz8RkDyBnJ",
        "outputId": "83e65a6c-7a71-4f63-b52e-a79ac25d77d6"
      },
      "source": [
        "nltk.download('punkt')\r\n",
        "words = []\r\n",
        "classes = []\r\n",
        "documents = []\r\n",
        "ignore_words = ['?']\r\n",
        "print(\"Looping through the Intents to Convert them to words, classes, documents and ignore_words.......\")\r\n",
        "for intent in intents['intents']:\r\n",
        "    for pattern in intent['patterns']:\r\n",
        "        # tokenize each word in the sentence\r\n",
        "        w = nltk.word_tokenize(pattern)\r\n",
        "        # add to our words list\r\n",
        "        words.extend(w)\r\n",
        "        # add to documents in our corpus\r\n",
        "        documents.append((w, intent['tag']))\r\n",
        "        # add to our classes list\r\n",
        "        if intent['tag'] not in classes:\r\n",
        "            classes.append(intent['tag'])"
      ],
      "execution_count": 4,
      "outputs": [
        {
          "output_type": "stream",
          "text": [
            "[nltk_data] Downloading package punkt to /root/nltk_data...\n",
            "[nltk_data]   Unzipping tokenizers/punkt.zip.\n",
            "Looping through the Intents to Convert them to words, classes, documents and ignore_words.......\n"
          ],
          "name": "stdout"
        }
      ]
    },
    {
      "cell_type": "code",
      "metadata": {
        "colab": {
          "base_uri": "https://localhost:8080/"
        },
        "id": "Ln0IK1_4yFEH",
        "outputId": "d41056b6-888c-42ac-def7-8e27763767cd"
      },
      "source": [
        "print(\"Stemming, Lowering and Removing Duplicates.......\")\r\n",
        "words = [stemmer.stem(w.lower()) for w in words if w not in ignore_words]\r\n",
        "words = sorted(list(set(words)))\r\n",
        "\r\n",
        "# remove duplicates\r\n",
        "classes = sorted(list(set(classes)))\r\n",
        "\r\n",
        "print (len(documents), \"documents\")\r\n",
        "print (len(classes), \"classes\", classes)\r\n",
        "print (len(words), \"unique stemmed words\", words)"
      ],
      "execution_count": 5,
      "outputs": [
        {
          "output_type": "stream",
          "text": [
            "Stemming, Lowering and Removing Duplicates.......\n",
            "39 documents\n",
            "14 classes ['SyncUP PETS App', 'device specifications', 'goodbye', 'greeting', 'hours', 'mopeds', 'opentoday', 'pair', 'payments', 'pets app Requirements', 'rental', 'syncup pets', 'thanks', 'today']\n",
            "61 unique stemmed words [\"'d\", \"'s\", 'a', 'acceiv', 'anyon', 'ap', 'ar', 'bye', 'can', 'card', 'cash', 'credit', 'day', 'dev', 'do', 'doe', 'get', 'good', 'goodby', 'hav', 'hello', 'help', 'hi', 'hour', 'how', 'i', 'in', 'is', 'kind', 'lat', 'lik', 'mastercard', 'mobl', 'mop', 'of', 'on', 'op', 'pair', 'pet', 'rent', 'requir', 'see', 'spec', 'syncup', 'tak', 'thank', 'that', 'the', 'ther', 'thi', 'to', 'today', 'we', 'what', 'when', 'wher', 'which', 'with', 'work', 'yo', 'you']\n"
          ],
          "name": "stdout"
        }
      ]
    },
    {
      "cell_type": "code",
      "metadata": {
        "colab": {
          "base_uri": "https://localhost:8080/"
        },
        "id": "TTTKK3_UyK3R",
        "outputId": "49fdcf4c-5115-4931-cf6d-f58e7a8bf485"
      },
      "source": [
        "print(\"Stemming, Lowering and Removing Duplicates.......\")\r\n",
        "words = [stemmer.stem(w.lower()) for w in words if w not in ignore_words]\r\n",
        "words = sorted(list(set(words)))\r\n",
        "\r\n",
        "# remove duplicates\r\n",
        "classes = sorted(list(set(classes)))\r\n",
        "\r\n",
        "print (len(documents), \"documents\")\r\n",
        "print (len(classes), \"classes\", classes)\r\n",
        "print (len(words), \"unique stemmed words\", words)"
      ],
      "execution_count": 6,
      "outputs": [
        {
          "output_type": "stream",
          "text": [
            "Stemming, Lowering and Removing Duplicates.......\n",
            "39 documents\n",
            "14 classes ['SyncUP PETS App', 'device specifications', 'goodbye', 'greeting', 'hours', 'mopeds', 'opentoday', 'pair', 'payments', 'pets app Requirements', 'rental', 'syncup pets', 'thanks', 'today']\n",
            "61 unique stemmed words [\"'d\", \"'s\", 'a', 'acceiv', 'anyon', 'ap', 'ar', 'bye', 'can', 'card', 'cash', 'credit', 'day', 'dev', 'do', 'doe', 'get', 'good', 'goodby', 'hav', 'hello', 'help', 'hi', 'hour', 'how', 'i', 'in', 'is', 'kind', 'lat', 'lik', 'mastercard', 'mobl', 'mop', 'of', 'on', 'op', 'pair', 'pet', 'rent', 'requir', 'see', 'spec', 'syncup', 'tak', 'thank', 'that', 'the', 'ther', 'thi', 'to', 'today', 'we', 'what', 'when', 'wher', 'which', 'with', 'work', 'yo', 'you']\n"
          ],
          "name": "stdout"
        }
      ]
    },
    {
      "cell_type": "code",
      "metadata": {
        "colab": {
          "base_uri": "https://localhost:8080/"
        },
        "id": "e2Y7t9CEySfo",
        "outputId": "5905b9a6-725b-4c7c-e911-ef1958c8adda"
      },
      "source": [
        "print(\"Creating the Data for our Model.....\")\r\n",
        "training = []\r\n",
        "output = []\r\n",
        "print(\"Creating an List (Empty) for Output.....\")\r\n",
        "output_empty = [0] * len(classes)\r\n",
        "\r\n",
        "print(\"Creating Traning Set, Bag of Words for our Model....\")\r\n",
        "for doc in documents:\r\n",
        "    # initialize our bag of words\r\n",
        "    bag = []\r\n",
        "    # list of tokenized words for the pattern\r\n",
        "    pattern_words = doc[0]\r\n",
        "    # stem each word\r\n",
        "    pattern_words = [stemmer.stem(word.lower()) for word in pattern_words]\r\n",
        "    # create our bag of words array\r\n",
        "    for w in words:\r\n",
        "        bag.append(1) if w in pattern_words else bag.append(0)\r\n",
        "\r\n",
        "    # output is a '0' for each tag and '1' for current tag\r\n",
        "    output_row = list(output_empty)\r\n",
        "    output_row[classes.index(doc[1])] = 1\r\n",
        "\r\n",
        "    training.append([bag, output_row])"
      ],
      "execution_count": 7,
      "outputs": [
        {
          "output_type": "stream",
          "text": [
            "Creating the Data for our Model.....\n",
            "Creating an List (Empty) for Output.....\n",
            "Creating Traning Set, Bag of Words for our Model....\n"
          ],
          "name": "stdout"
        }
      ]
    },
    {
      "cell_type": "code",
      "metadata": {
        "colab": {
          "base_uri": "https://localhost:8080/"
        },
        "id": "MWMdY7zoyUBq",
        "outputId": "43ce79f6-4251-4c2e-9fb3-aa3ba7727e05"
      },
      "source": [
        "print(\"Shuffling Randomly and Converting into Numpy Array for Faster Processing......\")\r\n",
        "random.shuffle(training)\r\n",
        "training = np.array(training)\r\n",
        "\r\n",
        "print(\"Creating Train and Test Lists.....\")\r\n",
        "train_x = list(training[:,0])\r\n",
        "train_y = list(training[:,1])\r\n",
        "print(\"Building Neural Network for Out Chatbot to be Contextual....\")\r\n",
        "print(\"Resetting graph data....\")\r\n",
        "#tf.reset_default_graph()"
      ],
      "execution_count": 8,
      "outputs": [
        {
          "output_type": "stream",
          "text": [
            "Shuffling Randomly and Converting into Numpy Array for Faster Processing......\n",
            "Creating Train and Test Lists.....\n",
            "Building Neural Network for Out Chatbot to be Contextual....\n",
            "Resetting graph data....\n"
          ],
          "name": "stdout"
        }
      ]
    },
    {
      "cell_type": "code",
      "metadata": {
        "colab": {
          "base_uri": "https://localhost:8080/"
        },
        "id": "BVxsxbZSyZ_z",
        "outputId": "e93a581c-e4b9-4238-fb76-d9b4b3a9a94c"
      },
      "source": [
        "net = tflearn.input_data(shape=[None, len(train_x[0])])\r\n",
        "net = tflearn.fully_connected(net, 8)\r\n",
        "net = tflearn.fully_connected(net, 8)\r\n",
        "net = tflearn.fully_connected(net, len(train_y[0]), activation='softmax')\r\n",
        "net = tflearn.regression(net)\r\n",
        "print(\"Training....\")"
      ],
      "execution_count": 9,
      "outputs": [
        {
          "output_type": "stream",
          "text": [
            "WARNING:tensorflow:From /usr/local/lib/python3.6/dist-packages/tflearn/initializations.py:165: calling TruncatedNormal.__init__ (from tensorflow.python.ops.init_ops) with dtype is deprecated and will be removed in a future version.\n",
            "Instructions for updating:\n",
            "Call initializer instance with the dtype argument instead of passing it to the constructor\n",
            "Training....\n"
          ],
          "name": "stdout"
        }
      ]
    },
    {
      "cell_type": "code",
      "metadata": {
        "id": "HLOu3tljyijz"
      },
      "source": [
        "model = tflearn.DNN(net, tensorboard_dir='tflearn_logs')"
      ],
      "execution_count": 10,
      "outputs": []
    },
    {
      "cell_type": "code",
      "metadata": {
        "colab": {
          "base_uri": "https://localhost:8080/"
        },
        "id": "EUc7afXSycEH",
        "outputId": "70e9b1ae-cee4-4b10-d9e0-f254a822f476"
      },
      "source": [
        "print(\"Training the Model.......\")\r\n",
        "model.fit(train_x, train_y, n_epoch=1000, batch_size=8, show_metric=True)\r\n",
        "print(\"Saving the Model.......\")\r\n",
        "model.save('model.tflearn')"
      ],
      "execution_count": 11,
      "outputs": [
        {
          "output_type": "stream",
          "text": [
            "Training Step: 4999  | total loss: \u001b[1m\u001b[32m0.48309\u001b[0m\u001b[0m | time: 0.019s\n",
            "| Adam | epoch: 1000 | loss: 0.48309 - acc: 0.9605 -- iter: 32/39\n",
            "Training Step: 5000  | total loss: \u001b[1m\u001b[32m0.43610\u001b[0m\u001b[0m | time: 0.025s\n",
            "| Adam | epoch: 1000 | loss: 0.43610 - acc: 0.9644 -- iter: 39/39\n",
            "--\n",
            "Saving the Model.......\n",
            "INFO:tensorflow:/content/model.tflearn is not in all_model_checkpoint_paths. Manually adding it.\n"
          ],
          "name": "stdout"
        }
      ]
    },
    {
      "cell_type": "code",
      "metadata": {
        "colab": {
          "base_uri": "https://localhost:8080/"
        },
        "id": "HEgXc4R5zO9z",
        "outputId": "fa22e9e4-3eab-4337-9290-29adb5da5a87"
      },
      "source": [
        "print(\"Pickle is also Saved..........\")\r\n",
        "pickle.dump( {'words':words, 'classes':classes, 'train_x':train_x, 'train_y':train_y}, open( \"training_data\", \"wb\" ) )"
      ],
      "execution_count": 12,
      "outputs": [
        {
          "output_type": "stream",
          "text": [
            "Pickle is also Saved..........\n"
          ],
          "name": "stdout"
        }
      ]
    },
    {
      "cell_type": "code",
      "metadata": {
        "colab": {
          "base_uri": "https://localhost:8080/"
        },
        "id": "es-yieqDzUED",
        "outputId": "7bc1e2d2-4331-4319-834a-b0110c840489"
      },
      "source": [
        "print(\"Loading Pickle.....\")\r\n",
        "data = pickle.load( open( \"training_data\", \"rb\" ) )\r\n",
        "words = data['words']\r\n",
        "classes = data['classes']\r\n",
        "train_x = data['train_x']\r\n",
        "train_y = data['train_y']\r\n",
        "\r\n",
        "\r\n",
        "with open('intents.json') as json_data:\r\n",
        "    intents = json.load(json_data)\r\n",
        "    \r\n",
        "print(\"Loading the Model......\")\r\n",
        "# load our saved model\r\n",
        "model.load('./model.tflearn')"
      ],
      "execution_count": 13,
      "outputs": [
        {
          "output_type": "stream",
          "text": [
            "Loading Pickle.....\n",
            "Loading the Model......\n",
            "INFO:tensorflow:Restoring parameters from /content/model.tflearn\n"
          ],
          "name": "stdout"
        }
      ]
    },
    {
      "cell_type": "code",
      "metadata": {
        "colab": {
          "base_uri": "https://localhost:8080/"
        },
        "id": "tiGwlZE9zcYO",
        "outputId": "980a5260-bae4-49ec-c8b3-352b0e0d0ff3"
      },
      "source": [
        "def clean_up_sentence(sentence):\r\n",
        "    # It Tokenize or Break it into the constituents parts of Sentense.\r\n",
        "    sentence_words = nltk.word_tokenize(sentence)\r\n",
        "    # Stemming means to find the root of the word.\r\n",
        "    sentence_words = [stemmer.stem(word.lower()) for word in sentence_words]\r\n",
        "    return sentence_words\r\n",
        "\r\n",
        "# Return the Array of Bag of Words: True or False and 0 or 1 for each word of bag that exists in the Sentence\r\n",
        "def bow(sentence, words, show_details=False):\r\n",
        "    sentence_words = clean_up_sentence(sentence)\r\n",
        "    bag = [0]*len(words)\r\n",
        "    for s in sentence_words:\r\n",
        "        for i,w in enumerate(words):\r\n",
        "            if w == s:\r\n",
        "                bag[i] = 1\r\n",
        "                if show_details:\r\n",
        "                    print (\"found in bag: %s\" % w)\r\n",
        "    return(np.array(bag))\r\n",
        "\r\n",
        "ERROR_THRESHOLD = 0.25\r\n",
        "print(\"ERROR_THRESHOLD = 0.25\")\r\n",
        "\r\n",
        "def classify(sentence):\r\n",
        "    # Prediction or To Get the Posibility or Probability from the Model\r\n",
        "    results = model.predict([bow(sentence, words)])[0]\r\n",
        "    # Exclude those results which are Below Threshold\r\n",
        "    results = [[i,r] for i,r in enumerate(results) if r>ERROR_THRESHOLD]\r\n",
        "    # Sorting is Done because heigher Confidence Answer comes first.\r\n",
        "    results.sort(key=lambda x: x[1], reverse=True)\r\n",
        "    return_list = []\r\n",
        "    for r in results:\r\n",
        "        return_list.append((classes[r[0]], r[1])) #Tuppl -> Intent and Probability\r\n",
        "    return return_list\r\n",
        "\r\n",
        "def response(sentence, userID='123', show_details=False):\r\n",
        "    results = classify(sentence)\r\n",
        "    # That Means if Classification is Done then Find the Matching Tag.\r\n",
        "    if results:\r\n",
        "        # Long Loop to get the Result.\r\n",
        "        while results:\r\n",
        "            for i in intents['intents']:\r\n",
        "                # Tag Finding\r\n",
        "                if i['tag'] == results[0][0]:\r\n",
        "                    # Random Response from High Order Probabilities\r\n",
        "                    return print(random.choice(i['responses']))\r\n",
        "\r\n",
        "            results.pop(0)"
      ],
      "execution_count": 14,
      "outputs": [
        {
          "output_type": "stream",
          "text": [
            "ERROR_THRESHOLD = 0.25\n"
          ],
          "name": "stdout"
        }
      ]
    },
    {
      "cell_type": "code",
      "metadata": {
        "colab": {
          "base_uri": "https://localhost:8080/"
        },
        "id": "D-K9GszczedW",
        "outputId": "f1b0b8d2-f29f-4233-bd8b-4f7c46cdca9c"
      },
      "source": [
        "while True:\r\n",
        "    input_data = input(\"You- \")\r\n",
        "    answer = response(input_data)\r\n",
        "    answer\r\n",
        "    print(\"\\n\")"
      ],
      "execution_count": null,
      "outputs": [
        {
          "output_type": "stream",
          "text": [
            "Battery\n",
            "• Battery Type: Li-Ion\n",
            "• Battery capacity (mAh): 430\n",
            "• Battery Charger: Dock with pogo pins, USB-C to A cable, USB-A AC adapter\n",
            "• Expected Battery Life: Up to 8 days depending on usage and ability to use WiFi and BLE connections\n",
            "• Highest specified charging temperature: 45℃\n",
            "• Lowest specified charging temperature: 11℃\n",
            "Note: The device may not charge at high temperatures (>40℃/104F) to prevent\n",
            "permanent damage to the battery and tracker.\n",
            "General\n",
            "• Display: None\n",
            "• Waterproof/Dust Rating: IP67\n",
            "• SIM: Embedded\n",
            "• Sensors: Accelerometer, Temperature\n",
            "• User Controls: Button\n",
            "• LED Light: Red, Green, Blue, White (RGBW)\n",
            "• Speaker: Piezoelectric buzzer\n",
            "\n",
            "SyncUP PETS User Guide 10\n",
            "Networks\n",
            "• NB-IOT\n",
            "• LTE Bands: 2, 4, 12, and 66\n",
            "• Roaming: Not supported\n",
            "• FCC ID: 2ASXC-TMO-NBT-01\n",
            "Connectivity\n",
            "• Wi-Fi: 802.11n on 2.4GHz\n",
            "• Bluetooth® BLE version 4.2 Class 1\n",
            "\n",
            "\n"
          ],
          "name": "stdout"
        }
      ]
    },
    {
      "cell_type": "code",
      "metadata": {
        "id": "Ozkd9CxMDBof"
      },
      "source": [
        "from google.colab import drive\n",
        "drive.mount('/content/drive')"
      ],
      "execution_count": null,
      "outputs": []
    }
  ]
}